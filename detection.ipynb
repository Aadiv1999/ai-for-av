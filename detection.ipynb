{
 "cells": [
  {
   "cell_type": "code",
   "execution_count": 2,
   "metadata": {
    "id": "VgFkipuK-_5E"
   },
   "outputs": [
    {
     "name": "stdout",
     "output_type": "stream",
     "text": [
      "OpenCV version :  4.5.5\n",
      "0\n"
     ]
    }
   ],
   "source": [
    "# import useful libraries\n",
    "import os\n",
    "import numpy as np\n",
    "import cv2\n",
    "from src.yolo_utils import *\n",
    "\n",
    "print('OpenCV version : ', cv2. __version__)\n",
    "print(cv2.cuda.getCudaEnabledDeviceCount())"
   ]
  },
  {
   "cell_type": "markdown",
   "metadata": {
    "id": "J011UaOx-_5H"
   },
   "source": [
    "### Load YoloV4 labels"
   ]
  },
  {
   "cell_type": "code",
   "execution_count": 3,
   "metadata": {
    "colab": {
     "base_uri": "https://localhost:8080/"
    },
    "id": "6lNsDmSE-_5I",
    "outputId": "9915621d-8c15-417f-ea2e-93befabc392c"
   },
   "outputs": [
    {
     "name": "stdout",
     "output_type": "stream",
     "text": [
      "Classes' names :\n",
      " ['crosswalk', 'speedlimit', 'stop', 'trafficlight']\n"
     ]
    }
   ],
   "source": [
    "# test our function read_classes\n",
    "img_file = './classes/class.names'\n",
    "classNames = read_classes(img_file)\n",
    "print(\"Classes' names :\\n\", classNames)"
   ]
  },
  {
   "cell_type": "markdown",
   "metadata": {
    "id": "17jo_5tzLNiZ"
   },
   "source": [
    "### YoloV4 weights and cfg files\n",
    "\n",
    "In this part we'll upload YoloV3 Weights and cfg files in order to input them into cv2.dnn.readNetFromDarknet() and build our forward propagation with OpenCV."
   ]
  },
  {
   "cell_type": "code",
   "execution_count": 7,
   "metadata": {
    "colab": {
     "base_uri": "https://localhost:8080/",
     "height": 263
    },
    "id": "sYmLADJ2LNSA",
    "outputId": "aba64119-7ff5-4336-a35f-acc1016a9800"
   },
   "outputs": [],
   "source": [
    "# load the model config and weights\n",
    "modelConfig_path = './src/cfg/yolov4-rds.cfg'\n",
    "modelWeights_path = './weights/yolov4-rds_best_2000.weights'\n",
    "\n",
    "# read the model cfg and weights with the cv2 DNN module\n",
    "neural_net = cv2.dnn.readNetFromDarknet(modelConfig_path, modelWeights_path)\n",
    "# set the preferable Backend to GPU\n",
    "neural_net.setPreferableBackend(cv2.dnn.DNN_BACKEND_CUDA)\n",
    "neural_net.setPreferableTarget(cv2.dnn.DNN_TARGET_CUDA)"
   ]
  },
  {
   "cell_type": "code",
   "execution_count": 8,
   "metadata": {},
   "outputs": [
    {
     "name": "stdout",
     "output_type": "stream",
     "text": [
      "Number of objects detected :  1 \n",
      "\n",
      "Bounding box coordinates in the frame :  x :  604 || y :  255 || w :  43 || h : 51 \n",
      "\n"
     ]
    }
   ],
   "source": [
    "# defining the input frame resolution for the neural network to process\n",
    "network = neural_net\n",
    "height, width = 416,416\n",
    "\n",
    "# confidence and non-max suppression threshold for this YoloV3 version\n",
    "confidenceThreshold = 0.5\n",
    "nmsThreshold = 0.2\n",
    "\n",
    "# load the image\n",
    "img = load_image('./src/inputs/images/crosswalks/crosswalk1.jpg')\n",
    "\n",
    "# using convert_to_blob function : \n",
    "outputs = convert_to_blob(img, network, height, width)    \n",
    "# apply object detection on the video file\n",
    "bounding_boxes, class_objects, confidence_probs = object_detection(outputs, img, confidenceThreshold)   \n",
    "# perform non-max suppression\n",
    "indices = nms_bbox(bounding_boxes, confidence_probs, confidenceThreshold, nmsThreshold)\n",
    "# draw the boxes\n",
    "box_drawing(img, indices, bounding_boxes, class_objects, confidence_probs, classNames, color=(255,0,0), thickness=2)\n",
    "\n",
    "# to save the detected image\n",
    "img_save = cv2.imwrite('./results/yolov4res11.jpg', img)\n",
    "\n",
    "cv2.imshow('Object detection in images', img)\n",
    "cv2.waitKey()\n",
    "cv2.destroyAllWindows()\n"
   ]
  }
 ],
 "metadata": {
  "colab": {
   "collapsed_sections": [],
   "name": "yolov3_ftn4.ipynb",
   "provenance": [],
   "toc_visible": true
  },
  "kernelspec": {
   "display_name": "Python 3",
   "language": "python",
   "name": "python3"
  },
  "language_info": {
   "codemirror_mode": {
    "name": "ipython",
    "version": 3
   },
   "file_extension": ".py",
   "mimetype": "text/x-python",
   "name": "python",
   "nbconvert_exporter": "python",
   "pygments_lexer": "ipython3",
   "version": "3.8.8"
  }
 },
 "nbformat": 4,
 "nbformat_minor": 1
}
